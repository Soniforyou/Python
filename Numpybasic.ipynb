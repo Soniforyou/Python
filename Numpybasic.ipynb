{
 "cells": [
  {
   "cell_type": "code",
   "execution_count": 2,
   "metadata": {},
   "outputs": [],
   "source": [
    "import numpy as np\n",
    "\n",
    "def simple_operation(a):\n",
    "    print(a,\"\\n\")\n",
    "    print(a.ndim,\"number of dimension\")\n",
    "    print(a.size,\"total size of array\")\n",
    "    print(a.shape,\"size of each dimension\")\n",
    "    print(a.dtype,\" data type of array\")\n",
    "    print(a.itemsize,\"list the size(in Byte) each array elements\")\n",
    "    print(a.nbytes, \"list the total size array in Byte\")\n"
   ]
  },
  {
   "cell_type": "code",
   "execution_count": 3,
   "metadata": {},
   "outputs": [
    {
     "name": "stdout",
     "output_type": "stream",
     "text": [
      "\n",
      " 1D \n",
      "\n",
      "[1 2 3 4] \n",
      "\n",
      "1 number of dimension\n",
      "4 total size of array\n",
      "(4,) size of each dimension\n",
      "int32  data type of array\n",
      "4 list the size(in Byte) each array elements\n",
      "16 list the total size array in Byte\n"
     ]
    }
   ],
   "source": [
    "print(\"\\n 1D \\n\")\n",
    "a=np.array([1,2,3,4])      #  1D array\n",
    "simple_operation(a)\n"
   ]
  },
  {
   "cell_type": "code",
   "execution_count": 4,
   "metadata": {},
   "outputs": [
    {
     "name": "stdout",
     "output_type": "stream",
     "text": [
      "\n",
      " 2D \n",
      "\n",
      "[[1 2 3 4]\n",
      " [5 6 7 8]] \n",
      "\n",
      "2 number of dimension\n",
      "8 total size of array\n",
      "(2, 4) size of each dimension\n",
      "int32  data type of array\n",
      "4 list the size(in Byte) each array elements\n",
      "32 list the total size array in Byte\n"
     ]
    }
   ],
   "source": [
    "print(\"\\n 2D \\n\")\n",
    "b=np.array([[1,2,3,4],[5,6,7,8] ])    # 2D array\n",
    "simple_operation(b)\n",
    "\n"
   ]
  },
  {
   "cell_type": "code",
   "execution_count": 5,
   "metadata": {},
   "outputs": [
    {
     "name": "stdout",
     "output_type": "stream",
     "text": [
      "\n",
      " 2D array [[1 2 3 4]\n",
      " [5 6 7 8]]\n",
      "[[1 2]\n",
      " [3 4]\n",
      " [5 6]\n",
      " [7 8]]\n",
      "4\n"
     ]
    }
   ],
   "source": [
    "print(\"\\n 2D array\",b)\n",
    "print(b.reshape(4,2))\n",
    "\n",
    "x=np.array([1,2,3,4])\n",
    "print(x.itemsize)\n"
   ]
  },
  {
   "cell_type": "code",
   "execution_count": 6,
   "metadata": {},
   "outputs": [
    {
     "name": "stdout",
     "output_type": "stream",
     "text": [
      "1\n"
     ]
    }
   ],
   "source": [
    "x=np.array([1,2,3,4],dtype=np.int8)\n",
    "print(x.itemsize)\n",
    "\n"
   ]
  },
  {
   "cell_type": "code",
   "execution_count": 7,
   "metadata": {},
   "outputs": [
    {
     "name": "stdout",
     "output_type": "stream",
     "text": [
      "[[ 170685550  538976288]\n",
      " [ 538976288 2019893280]\n",
      " [1953523043 1634235424]]\n"
     ]
    }
   ],
   "source": [
    "# EMPTY\n",
    "#It creates an uninitialized array of specified shape and dtype.\n",
    "#numpy.empty(shape, dtype = float, order = 'C')\n",
    "\n",
    "x = np.empty([3,2], dtype =np.int)\n",
    "print(x)\n"
   ]
  },
  {
   "cell_type": "code",
   "execution_count": 12,
   "metadata": {},
   "outputs": [
    {
     "name": "stdout",
     "output_type": "stream",
     "text": [
      "[[0 0 0]\n",
      " [0 0 0]]\n"
     ]
    }
   ],
   "source": [
    "#Zeros\n",
    "#it return the array of specific size filled with Zeros\n",
    "#numpy.zeros(shape, dtype = float, order = 'C')\n",
    "\n",
    "x=np.zeros([2,3],dtype=np.int)\n",
    "print(x)"
   ]
  },
  {
   "cell_type": "code",
   "execution_count": 13,
   "metadata": {},
   "outputs": [
    {
     "name": "stdout",
     "output_type": "stream",
     "text": [
      "[[1 1]\n",
      " [1 1]]\n"
     ]
    }
   ],
   "source": [
    "# Ones\n",
    "#it return array of specific size filled with Ones\n",
    "#numpy.ones(shape, dtype = None, order = 'C')\n",
    "\n",
    "x = np.ones([2,2], dtype = int)\n",
    "print(x)\n",
    "\n"
   ]
  },
  {
   "cell_type": "code",
   "execution_count": 14,
   "metadata": {},
   "outputs": [
    {
     "name": "stdout",
     "output_type": "stream",
     "text": [
      "[10 12 14 16 18]\n"
     ]
    }
   ],
   "source": [
    "#  arange\n",
    "#This function returns an ndarray object containing evenly spaced values within a given range.\n",
    "#numpy.arange(start, stop, step, dtype)\n",
    "\n",
    "x = np.arange(10,20,2)\n",
    "print( x)\n",
    "\n"
   ]
  },
  {
   "cell_type": "code",
   "execution_count": null,
   "metadata": {},
   "outputs": [],
   "source": []
  }
 ],
 "metadata": {
  "kernelspec": {
   "display_name": "Python 3",
   "language": "python",
   "name": "python3"
  },
  "language_info": {
   "codemirror_mode": {
    "name": "ipython",
    "version": 3
   },
   "file_extension": ".py",
   "mimetype": "text/x-python",
   "name": "python",
   "nbconvert_exporter": "python",
   "pygments_lexer": "ipython3",
   "version": "3.7.1"
  }
 },
 "nbformat": 4,
 "nbformat_minor": 2
}
